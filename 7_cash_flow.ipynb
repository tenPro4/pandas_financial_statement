{
 "cells": [
  {
   "cell_type": "code",
   "execution_count": 1,
   "metadata": {},
   "outputs": [
    {
     "name": "stdout",
     "output_type": "stream",
     "text": [
      "<class 'pandas.core.frame.DataFrame'>\n",
      "RangeIndex: 18 entries, 0 to 17\n",
      "Data columns (total 36 columns):\n",
      " #   Column                       Non-Null Count  Dtype         \n",
      "---  ------                       --------------  -----         \n",
      " 0   Year                         18 non-null     datetime64[ns]\n",
      " 1   Revenue                      18 non-null     int64         \n",
      " 2   Gross Profit                 18 non-null     int64         \n",
      " 3   Operating Profit             18 non-null     int64         \n",
      " 4   Profit Before Tax            18 non-null     int64         \n",
      " 5   Net Profit                   18 non-null     int64         \n",
      " 6   Cost of Sales                18 non-null     int64         \n",
      " 7   Total Assets                 18 non-null     int64         \n",
      " 8   Total Liabilities            18 non-null     int64         \n",
      " 9   Total ShareHolder's Equity   18 non-null     int64         \n",
      " 10  Current Assets               18 non-null     int64         \n",
      " 11  Current Liabilities          18 non-null     int64         \n",
      " 12  Current Receivable           18 non-null     int64         \n",
      " 13  Early Receivable             18 non-null     int64         \n",
      " 14  Current Inventories          18 non-null     int64         \n",
      " 15  Early Inventories            18 non-null     int64         \n",
      " 16  Cash or Equivalent Balance   18 non-null     int64         \n",
      " 17  Early Payables               18 non-null     int64         \n",
      " 18  Current Payables             18 non-null     int64         \n",
      " 19  No of Issued Shares          18 non-null     int64         \n",
      " 20  Cash From Operating          18 non-null     int64         \n",
      " 21  Cash From Investing          18 non-null     int64         \n",
      " 22  Cash From Financing          18 non-null     int64         \n",
      " 23  Other Receivables            18 non-null     int64         \n",
      " 24  Trade receivables            18 non-null     int64         \n",
      " 25  Financing receivables        18 non-null     int64         \n",
      " 26  Trade payables               18 non-null     int64         \n",
      " 27  Other payables and accruals  18 non-null     int64         \n",
      " 28  企业价值 Enterprise Value        18 non-null     int64         \n",
      " 29  平均应收账款 Average Receivable    18 non-null     float64       \n",
      " 30  平均存货 Average Inventories     18 non-null     float64       \n",
      " 31  采购数额 No Sales                18 non-null     int64         \n",
      " 32  平均应付账款 Average Payable       18 non-null     float64       \n",
      " 33  每股盈餘 EPS                     18 non-null     float64       \n",
      " 34  NAVPS                        18 non-null     float64       \n",
      " 35  year_quater                  18 non-null     object        \n",
      "dtypes: datetime64[ns](1), float64(5), int64(29), object(1)\n",
      "memory usage: 5.2+ KB\n"
     ]
    }
   ],
   "source": [
    "import pandas as pd\n",
    "import matplotlib.pyplot as plt\n",
    "\n",
    "df = pd.read_excel('financial_source.xlsx',sheet_name='Quarter Source')\n",
    "df['year_quater'] = df['Year'].dt.year.astype(str) + \",Q\" + df['Year'].dt.quarter.astype(str)\n",
    "df.info()"
   ]
  },
  {
   "cell_type": "code",
   "execution_count": 2,
   "metadata": {},
   "outputs": [
    {
     "data": {
      "text/html": [
       "<div>\n",
       "<style scoped>\n",
       "    .dataframe tbody tr th:only-of-type {\n",
       "        vertical-align: middle;\n",
       "    }\n",
       "\n",
       "    .dataframe tbody tr th {\n",
       "        vertical-align: top;\n",
       "    }\n",
       "\n",
       "    .dataframe thead th {\n",
       "        text-align: right;\n",
       "    }\n",
       "</style>\n",
       "<table border=\"1\" class=\"dataframe\">\n",
       "  <thead>\n",
       "    <tr style=\"text-align: right;\">\n",
       "      <th></th>\n",
       "      <th>cfi</th>\n",
       "      <th>cff</th>\n",
       "      <th>cfo</th>\n",
       "      <th>ceb</th>\n",
       "    </tr>\n",
       "    <tr>\n",
       "      <th>year_quater</th>\n",
       "      <th></th>\n",
       "      <th></th>\n",
       "      <th></th>\n",
       "      <th></th>\n",
       "    </tr>\n",
       "  </thead>\n",
       "  <tbody>\n",
       "    <tr>\n",
       "      <th>2020,Q1</th>\n",
       "      <td>-5282</td>\n",
       "      <td>-12716</td>\n",
       "      <td>106737</td>\n",
       "      <td>164935</td>\n",
       "    </tr>\n",
       "    <tr>\n",
       "      <th>2020,Q2</th>\n",
       "      <td>-80454</td>\n",
       "      <td>-21136</td>\n",
       "      <td>275198</td>\n",
       "      <td>249831</td>\n",
       "    </tr>\n",
       "    <tr>\n",
       "      <th>2020,Q3</th>\n",
       "      <td>-171593</td>\n",
       "      <td>-25314</td>\n",
       "      <td>395554</td>\n",
       "      <td>274846</td>\n",
       "    </tr>\n",
       "    <tr>\n",
       "      <th>2020,Q4</th>\n",
       "      <td>-299781</td>\n",
       "      <td>150989</td>\n",
       "      <td>307203</td>\n",
       "      <td>234613</td>\n",
       "    </tr>\n",
       "    <tr>\n",
       "      <th>2021,Q1</th>\n",
       "      <td>-34260</td>\n",
       "      <td>-19966</td>\n",
       "      <td>178849</td>\n",
       "      <td>359236</td>\n",
       "    </tr>\n",
       "  </tbody>\n",
       "</table>\n",
       "</div>"
      ],
      "text/plain": [
       "                cfi     cff     cfo     ceb\n",
       "year_quater                                \n",
       "2020,Q1       -5282  -12716  106737  164935\n",
       "2020,Q2      -80454  -21136  275198  249831\n",
       "2020,Q3     -171593  -25314  395554  274846\n",
       "2020,Q4     -299781  150989  307203  234613\n",
       "2021,Q1      -34260  -19966  178849  359236"
      ]
     },
     "execution_count": 2,
     "metadata": {},
     "output_type": "execute_result"
    }
   ],
   "source": [
    "df_piv = df.groupby('year_quater').agg(\n",
    "    cfi=('Cash From Investing','sum'),\n",
    "    cff=('Cash From Financing','sum'),\n",
    "    cfo=('Cash From Operating','sum'),\n",
    "    ceb=('Cash or Equivalent Balance','sum')\n",
    ")\n",
    "# df_piv = df.pivot_table(\n",
    "#     index='year_quater',\n",
    "#     values=['Cash From Operating', 'Cash From Investing', 'Cash From Financing'],\n",
    "#     aggfunc='sum'\n",
    "# )\n",
    "\n",
    "df_piv.head()"
   ]
  },
  {
   "cell_type": "code",
   "execution_count": 3,
   "metadata": {},
   "outputs": [
    {
     "data": {
      "image/png": "[encoded data removed]",
      "text/plain": [
       "<Figure size 1200x600 with 1 Axes>"
      ]
     },
     "metadata": {},
     "output_type": "display_data"
    }
   ],
   "source": [
    "from matplotlib.patches import Patch\n",
    "\n",
    "custom_colors = ['hotpink', 'orange', 'deepskyblue']\n",
    "\n",
    "ax = df_piv.iloc[:,:3].plot.bar(stacked=True,figsize=(12,6), color=custom_colors,edgecolor='white')\n",
    "\n",
    "ax.plot(df_piv.index, df_piv['ceb'], color='slateblue', linewidth=2, marker='o', label='Cash or Equivalent Balance')\n",
    "\n",
    "# Add titles and labels\n",
    "plt.title('Cash Flow by Year/Quarter')\n",
    "plt.ylabel('Amount')\n",
    "plt.xlabel('')\n",
    "\n",
    "# Format the y-axis to display values in thousands (k)\n",
    "plt.gca().yaxis.set_major_formatter(plt.FuncFormatter(lambda x, pos: f'{x/1000:.0f}k'))\n",
    "\n",
    "cfo = Patch(label='Cash From Operating',color='deepskyblue')\n",
    "cfi = Patch(label='Cash From Investing',color='hotpink')\n",
    "cff = Patch(label='Cash From Financing',color='orange')\n",
    "ceb = Patch(label='Cash or Equivalent Balance',color='slateblue')\n",
    "\n",
    "plt.legend(handles=[cfo, cfi,cff,ceb])\n",
    "\n",
    "plt.show()"
   ]
  },
  {
   "cell_type": "code",
   "execution_count": 4,
   "metadata": {},
   "outputs": [
    {
     "data": {
      "application/vnd.plotly.v1+json": {
       "config": {
        "plotlyServerURL": "https://plot.ly"
       },
       "data": [
        {
         "hovertemplate": "Cash From Operating: %{y}<extra></extra>",
         "name": "Cash From Operating",
         "type": "bar",
         "x": [
          "2020,Q1",
          "2020,Q2",
          "2020,Q3",
          "2020,Q4",
          "2021,Q1",
          "2021,Q2",
          "2021,Q3",
          "2021,Q4",
          "2022,Q1",
          "2022,Q2",
          "2022,Q3",
          "2022,Q4",
          "2023,Q1",
          "2023,Q2",
          "2023,Q3",
          "2023,Q4",
          "2024,Q1",
          "2024,Q2"
         ],
         "y": [
          106737,
          275198,
          395554,
          307203,
          178849,
          271275,
          366884,
          112591,
          53915,
          156077,
          364335,
          302805,
          133392,
          288139,
          292337,
          503054,
          315778,
          510274
         ]
        },
        {
         "hovertemplate": "Cash From Financing: %{y}<extra></extra>",
         "name": "Cash From Financing",
         "type": "bar",
         "x": [
          "2020,Q1",
          "2020,Q2",
          "2020,Q3",
          "2020,Q4",
          "2021,Q1",
          "2021,Q2",
          "2021,Q3",
          "2021,Q4",
          "2022,Q1",
          "2022,Q2",
          "2022,Q3",
          "2022,Q4",
          "2023,Q1",
          "2023,Q2",
          "2023,Q3",
          "2023,Q4",
          "2024,Q1",
          "2024,Q2"
         ],
         "y": [
          -12716,
          -21136,
          -25314,
          150989,
          -19966,
          -55425,
          -121893,
          70213,
          76802,
          68221,
          82807,
          206299,
          78613,
          63081,
          304808,
          296837,
          305335,
          279141
         ]
        },
        {
         "hovertemplate": "Cash From Investing: %{y}<extra></extra>",
         "name": "Cash From Investing",
         "type": "bar",
         "x": [
          "2020,Q1",
          "2020,Q2",
          "2020,Q3",
          "2020,Q4",
          "2021,Q1",
          "2021,Q2",
          "2021,Q3",
          "2021,Q4",
          "2022,Q1",
          "2022,Q2",
          "2022,Q3",
          "2022,Q4",
          "2023,Q1",
          "2023,Q2",
          "2023,Q3",
          "2023,Q4",
          "2024,Q1",
          "2024,Q2"
         ],
         "y": [
          -5282,
          -80454,
          -171593,
          -299781,
          -34260,
          -93062,
          -103899,
          -328194,
          1953,
          -90283,
          -317724,
          -522019,
          -73676,
          -176073,
          -276044,
          -791466,
          -170789,
          -227653
         ]
        },
        {
         "hovertemplate": "Cash or Equivalent Balance: %{y}<extra></extra>",
         "mode": "lines+markers",
         "name": "Cash or Equivalent Balance",
         "type": "scatter",
         "x": [
          "2020,Q1",
          "2020,Q2",
          "2020,Q3",
          "2020,Q4",
          "2021,Q1",
          "2021,Q2",
          "2021,Q3",
          "2021,Q4",
          "2022,Q1",
          "2022,Q2",
          "2022,Q3",
          "2022,Q4",
          "2023,Q1",
          "2023,Q2",
          "2023,Q3",
          "2023,Q4",
          "2024,Q1",
          "2024,Q2"
         ],
         "y": [
          164935,
          249831,
          274846,
          234613,
          359236,
          357401,
          375703,
          89222,
          221947,
          223299,
          218702,
          76378,
          214749,
          252468,
          215204,
          84144,
          537280,
          649136
         ]
        }
       ],
       "layout": {
        "barmode": "stack",
        "height": 800,
        "hovermode": "x unified",
        "template": {
         "data": {
          "bar": [
           {
            "error_x": {
             "color": "#2a3f5f"
            },
            "error_y": {
             "color": "#2a3f5f"
            },
            "marker": {
             "line": {
              "color": "#E5ECF6",
              "width": 0.5
             },
             "pattern": {
              "fillmode": "overlay",
              "size": 10,
              "solidity": 0.2
             }
            },
            "type": "bar"
           }
          ],
          "barpolar": [
           {
            "marker": {
             "line": {
              "color": "#E5ECF6",
              "width": 0.5
             },
             "pattern": {
              "fillmode": "overlay",
              "size": 10,
              "solidity": 0.2
             }
            },
            "type": "barpolar"
           }
          ],
          "carpet": [
           {
            "aaxis": {
             "endlinecolor": "#2a3f5f",
             "gridcolor": "white",
             "linecolor": "white",
             "minorgridcolor": "white",
             "startlinecolor": "#2a3f5f"
            },
            "baxis": {
             "endlinecolor": "#2a3f5f",
             "gridcolor": "white",
             "linecolor": "white",
             "minorgridcolor": "white",
             "startlinecolor": "#2a3f5f"
            },
            "type": "carpet"
           }
          ],
          "choropleth": [
           {
            "colorbar": {
             "outlinewidth": 0,
             "ticks": ""
            },
            "type": "choropleth"
           }
          ],
          "contour": [
           {
            "colorbar": {
             "outlinewidth": 0,
             "ticks": ""
            },
            "colorscale": [
             [
              0,
              "#0d0887"
             ],
             [
              0.1111111111111111,
              "#46039f"
             ],
             [
              0.2222222222222222,
              "#7201a8"
             ],
             [
              0.3333333333333333,
              "#9c179e"
             ],
             [
              0.4444444444444444,
              "#bd3786"
             ],
             [
              0.5555555555555556,
              "#d8576b"
             ],
             [
              0.6666666666666666,
              "#ed7953"
             ],
             [
              0.7777777777777778,
              "#fb9f3a"
             ],
             [
              0.8888888888888888,
              "#fdca26"
             ],
             [
              1,
              "#f0f921"
             ]
            ],
            "type": "contour"
           }
          ],
          "contourcarpet": [
           {
            "colorbar": {
             "outlinewidth": 0,
             "ticks": ""
            },
            "type": "contourcarpet"
           }
          ],
          "heatmap": [
           {
            "colorbar": {
             "outlinewidth": 0,
             "ticks": ""
            },
            "colorscale": [
             [
              0,
              "#0d0887"
             ],
             [
              0.1111111111111111,
              "#46039f"
             ],
             [
              0.2222222222222222,
              "#7201a8"
             ],
             [
              0.3333333333333333,
              "#9c179e"
             ],
             [
              0.4444444444444444,
              "#bd3786"
             ],
             [
              0.5555555555555556,
              "#d8576b"
             ],
             [
              0.6666666666666666,
              "#ed7953"
             ],
             [
              0.7777777777777778,
              "#fb9f3a"
             ],
             [
              0.8888888888888888,
              "#fdca26"
             ],
             [
              1,
              "#f0f921"
             ]
            ],
            "type": "heatmap"
           }
          ],
          "heatmapgl": [
           {
            "colorbar": {
             "outlinewidth": 0,
             "ticks": ""
            },
            "colorscale": [
             [
              0,
              "#0d0887"
             ],
             [
              0.1111111111111111,
              "#46039f"
             ],
             [
              0.2222222222222222,
              "#7201a8"
             ],
             [
              0.3333333333333333,
              "#9c179e"
             ],
             [
              0.4444444444444444,
              "#bd3786"
             ],
             [
              0.5555555555555556,
              "#d8576b"
             ],
             [
              0.6666666666666666,
              "#ed7953"
             ],
             [
              0.7777777777777778,
              "#fb9f3a"
             ],
             [
              0.8888888888888888,
              "#fdca26"
             ],
             [
              1,
              "#f0f921"
             ]
            ],
            "type": "heatmapgl"
           }
          ],
          "histogram": [
           {
            "marker": {
             "pattern": {
              "fillmode": "overlay",
              "size": 10,
              "solidity": 0.2
             }
            },
            "type": "histogram"
           }
          ],
          "histogram2d": [
           {
            "colorbar": {
             "outlinewidth": 0,
             "ticks": ""
            },
            "colorscale": [
             [
              0,
              "#0d0887"
             ],
             [
              0.1111111111111111,
              "#46039f"
             ],
             [
              0.2222222222222222,
              "#7201a8"
             ],
             [
              0.3333333333333333,
              "#9c179e"
             ],
             [
              0.4444444444444444,
              "#bd3786"
             ],
             [
              0.5555555555555556,
              "#d8576b"
             ],
             [
              0.6666666666666666,
              "#ed7953"
             ],
             [
              0.7777777777777778,
              "#fb9f3a"
             ],
             [
              0.8888888888888888,
              "#fdca26"
             ],
             [
              1,
              "#f0f921"
             ]
            ],
            "type": "histogram2d"
           }
          ],
          "histogram2dcontour": [
           {
            "colorbar": {
             "outlinewidth": 0,
             "ticks": ""
            },
            "colorscale": [
             [
              0,
              "#0d0887"
             ],
             [
              0.1111111111111111,
              "#46039f"
             ],
             [
              0.2222222222222222,
              "#7201a8"
             ],
             [
              0.3333333333333333,
              "#9c179e"
             ],
             [
              0.4444444444444444,
              "#bd3786"
             ],
             [
              0.5555555555555556,
              "#d8576b"
             ],
             [
              0.6666666666666666,
              "#ed7953"
             ],
             [
              0.7777777777777778,
              "#fb9f3a"
             ],
             [
              0.8888888888888888,
              "#fdca26"
             ],
             [
              1,
              "#f0f921"
             ]
            ],
            "type": "histogram2dcontour"
           }
          ],
          "mesh3d": [
           {
            "colorbar": {
             "outlinewidth": 0,
             "ticks": ""
            },
            "type": "mesh3d"
           }
          ],
          "parcoords": [
           {
            "line": {
             "colorbar": {
              "outlinewidth": 0,
              "ticks": ""
             }
            },
            "type": "parcoords"
           }
          ],
          "pie": [
           {
            "automargin": true,
            "type": "pie"
           }
          ],
          "scatter": [
           {
            "fillpattern": {
             "fillmode": "overlay",
             "size": 10,
             "solidity": 0.2
            },
            "type": "scatter"
           }
          ],
          "scatter3d": [
           {
            "line": {
             "colorbar": {
              "outlinewidth": 0,
              "ticks": ""
             }
            },
            "marker": {
             "colorbar": {
              "outlinewidth": 0,
              "ticks": ""
             }
            },
            "type": "scatter3d"
           }
          ],
          "scattercarpet": [
           {
            "marker": {
             "colorbar": {
              "outlinewidth": 0,
              "ticks": ""
             }
            },
            "type": "scattercarpet"
           }
          ],
          "scattergeo": [
           {
            "marker": {
             "colorbar": {
              "outlinewidth": 0,
              "ticks": ""
             }
            },
            "type": "scattergeo"
           }
          ],
          "scattergl": [
           {
            "marker": {
             "colorbar": {
              "outlinewidth": 0,
              "ticks": ""
             }
            },
            "type": "scattergl"
           }
          ],
          "scattermapbox": [
           {
            "marker": {
             "colorbar": {
              "outlinewidth": 0,
              "ticks": ""
             }
            },
            "type": "scattermapbox"
           }
          ],
          "scatterpolar": [
           {
            "marker": {
             "colorbar": {
              "outlinewidth": 0,
              "ticks": ""
             }
            },
            "type": "scatterpolar"
           }
          ],
          "scatterpolargl": [
           {
            "marker": {
             "colorbar": {
              "outlinewidth": 0,
              "ticks": ""
             }
            },
            "type": "scatterpolargl"
           }
          ],
          "scatterternary": [
           {
            "marker": {
             "colorbar": {
              "outlinewidth": 0,
              "ticks": ""
             }
            },
            "type": "scatterternary"
           }
          ],
          "surface": [
           {
            "colorbar": {
             "outlinewidth": 0,
             "ticks": ""
            },
            "colorscale": [
             [
              0,
              "#0d0887"
             ],
             [
              0.1111111111111111,
              "#46039f"
             ],
             [
              0.2222222222222222,
              "#7201a8"
             ],
             [
              0.3333333333333333,
              "#9c179e"
             ],
             [
              0.4444444444444444,
              "#bd3786"
             ],
             [
              0.5555555555555556,
              "#d8576b"
             ],
             [
              0.6666666666666666,
              "#ed7953"
             ],
             [
              0.7777777777777778,
              "#fb9f3a"
             ],
             [
              0.8888888888888888,
              "#fdca26"
             ],
             [
              1,
              "#f0f921"
             ]
            ],
            "type": "surface"
           }
          ],
          "table": [
           {
            "cells": {
             "fill": {
              "color": "#EBF0F8"
             },
             "line": {
              "color": "white"
             }
            },
            "header": {
             "fill": {
              "color": "#C8D4E3"
             },
             "line": {
              "color": "white"
             }
            },
            "type": "table"
           }
          ]
         },
         "layout": {
          "annotationdefaults": {
           "arrowcolor": "#2a3f5f",
           "arrowhead": 0,
           "arrowwidth": 1
          },
          "autotypenumbers": "strict",
          "coloraxis": {
           "colorbar": {
            "outlinewidth": 0,
            "ticks": ""
           }
          },
          "colorscale": {
           "diverging": [
            [
             0,
             "#8e0152"
            ],
            [
             0.1,
             "#c51b7d"
            ],
            [
             0.2,
             "#de77ae"
            ],
            [
             0.3,
             "#f1b6da"
            ],
            [
             0.4,
             "#fde0ef"
            ],
            [
             0.5,
             "#f7f7f7"
            ],
            [
             0.6,
             "#e6f5d0"
            ],
            [
             0.7,
             "#b8e186"
            ],
            [
             0.8,
             "#7fbc41"
            ],
            [
             0.9,
             "#4d9221"
            ],
            [
             1,
             "#276419"
            ]
           ],
           "sequential": [
            [
             0,
             "#0d0887"
            ],
            [
             0.1111111111111111,
             "#46039f"
            ],
            [
             0.2222222222222222,
             "#7201a8"
            ],
            [
             0.3333333333333333,
             "#9c179e"
            ],
            [
             0.4444444444444444,
             "#bd3786"
            ],
            [
             0.5555555555555556,
             "#d8576b"
            ],
            [
             0.6666666666666666,
             "#ed7953"
            ],
            [
             0.7777777777777778,
             "#fb9f3a"
            ],
            [
             0.8888888888888888,
             "#fdca26"
            ],
            [
             1,
             "#f0f921"
            ]
           ],
           "sequentialminus": [
            [
             0,
             "#0d0887"
            ],
            [
             0.1111111111111111,
             "#46039f"
            ],
            [
             0.2222222222222222,
             "#7201a8"
            ],
            [
             0.3333333333333333,
             "#9c179e"
            ],
            [
             0.4444444444444444,
             "#bd3786"
            ],
            [
             0.5555555555555556,
             "#d8576b"
            ],
            [
             0.6666666666666666,
             "#ed7953"
            ],
            [
             0.7777777777777778,
             "#fb9f3a"
            ],
            [
             0.8888888888888888,
             "#fdca26"
            ],
            [
             1,
             "#f0f921"
            ]
           ]
          },
          "colorway": [
           "#636efa",
           "#EF553B",
           "#00cc96",
           "#ab63fa",
           "#FFA15A",
           "#19d3f3",
           "#FF6692",
           "#B6E880",
           "#FF97FF",
           "#FECB52"
          ],
          "font": {
           "color": "#2a3f5f"
          },
          "geo": {
           "bgcolor": "white",
           "lakecolor": "white",
           "landcolor": "#E5ECF6",
           "showlakes": true,
           "showland": true,
           "subunitcolor": "white"
          },
          "hoverlabel": {
           "align": "left"
          },
          "hovermode": "closest",
          "mapbox": {
           "style": "light"
          },
          "paper_bgcolor": "white",
          "plot_bgcolor": "#E5ECF6",
          "polar": {
           "angularaxis": {
            "gridcolor": "white",
            "linecolor": "white",
            "ticks": ""
           },
           "bgcolor": "#E5ECF6",
           "radialaxis": {
            "gridcolor": "white",
            "linecolor": "white",
            "ticks": ""
           }
          },
          "scene": {
           "xaxis": {
            "backgroundcolor": "#E5ECF6",
            "gridcolor": "white",
            "gridwidth": 2,
            "linecolor": "white",
            "showbackground": true,
            "ticks": "",
            "zerolinecolor": "white"
           },
           "yaxis": {
            "backgroundcolor": "#E5ECF6",
            "gridcolor": "white",
            "gridwidth": 2,
            "linecolor": "white",
            "showbackground": true,
            "ticks": "",
            "zerolinecolor": "white"
           },
           "zaxis": {
            "backgroundcolor": "#E5ECF6",
            "gridcolor": "white",
            "gridwidth": 2,
            "linecolor": "white",
            "showbackground": true,
            "ticks": "",
            "zerolinecolor": "white"
           }
          },
          "shapedefaults": {
           "line": {
            "color": "#2a3f5f"
           }
          },
          "ternary": {
           "aaxis": {
            "gridcolor": "white",
            "linecolor": "white",
            "ticks": ""
           },
           "baxis": {
            "gridcolor": "white",
            "linecolor": "white",
            "ticks": ""
           },
           "bgcolor": "#E5ECF6",
           "caxis": {
            "gridcolor": "white",
            "linecolor": "white",
            "ticks": ""
           }
          },
          "title": {
           "x": 0.05
          },
          "xaxis": {
           "automargin": true,
           "gridcolor": "white",
           "linecolor": "white",
           "ticks": "",
           "title": {
            "standoff": 15
           },
           "zerolinecolor": "white",
           "zerolinewidth": 2
          },
          "yaxis": {
           "automargin": true,
           "gridcolor": "white",
           "linecolor": "white",
           "ticks": "",
           "title": {
            "standoff": 15
           },
           "zerolinecolor": "white",
           "zerolinewidth": 2
          }
         }
        },
        "title": {
         "text": "Cash Flow by Year/Quarter"
        },
        "xaxis": {
         "title": {
          "text": ""
         }
        },
        "yaxis": {
         "title": {
          "text": "Amount"
         }
        }
       }
      }
     },
     "metadata": {},
     "output_type": "display_data"
    }
   ],
   "source": [
    "import plotly.graph_objects as go\n",
    "\n",
    "fig = go.Figure()\n",
    "\n",
    "# Add the stacked bars\n",
    "fig.add_trace(go.Bar(\n",
    "    x=df_piv.index, y=df_piv['cfo'],\n",
    "    name='Cash From Operating', hovertemplate='Cash From Operating: %{y}<extra></extra>'\n",
    "))\n",
    "fig.add_trace(go.Bar(\n",
    "    x=df_piv.index, y=df_piv['cff'],\n",
    "    name='Cash From Financing', hovertemplate='Cash From Financing: %{y}<extra></extra>'\n",
    "))\n",
    "fig.add_trace(go.Bar(\n",
    "    x=df_piv.index, y=df_piv['cfi'],\n",
    "    name='Cash From Investing', hovertemplate='Cash From Investing: %{y}<extra></extra>'\n",
    "))\n",
    "# Add the line for Cash or Equivalent Balance\n",
    "fig.add_trace(go.Scatter(\n",
    "    x=df_piv.index, y=df_piv['ceb'],\n",
    "    mode='lines+markers', name='Cash or Equivalent Balance',\n",
    "    hovertemplate='Cash or Equivalent Balance: %{y}<extra></extra>'\n",
    "))\n",
    "\n",
    "fig.update_layout(\n",
    "    barmode='stack',\n",
    "    title='Cash Flow by Year/Quarter',\n",
    "    xaxis_title='',\n",
    "    yaxis_title='Amount',\n",
    "    hovermode='x unified'\n",
    ")\n",
    "fig.update_layout(height=800)\n",
    "\n",
    "fig.show()"
   ]
  }
 ],
 "metadata": {
  "kernelspec": {
   "display_name": "financial_1",
   "language": "python",
   "name": "python3"
  },
  "language_info": {
   "codemirror_mode": {
    "name": "ipython",
    "version": 3
   },
   "file_extension": ".py",
   "mimetype": "text/x-python",
   "name": "python",
   "nbconvert_exporter": "python",
   "pygments_lexer": "ipython3",
   "version": "3.10.14"
  }
 },
 "nbformat": 4,
 "nbformat_minor": 2
}
